{
 "cells": [
  {
   "cell_type": "markdown",
   "metadata": {},
   "source": [
    "# Question Answering through Transfer Learning\n"
   ]
  },
  {
   "cell_type": "markdown",
   "metadata": {},
   "source": [
    "**1 Install packages:**"
   ]
  },
  {
   "cell_type": "code",
   "execution_count": null,
   "metadata": {},
   "outputs": [],
   "source": [
    "#pip requirements\n",
    "!python -m pip install --user --upgrade pip\n",
    "!pip install --user --upgrade kfp"
   ]
  },
  {
   "cell_type": "markdown",
   "metadata": {},
   "source": [
    "After the installation, we need to restart kernel for changes to take effect:"
   ]
  },
  {
   "cell_type": "code",
   "execution_count": null,
   "metadata": {},
   "outputs": [],
   "source": [
    "#Restart kernel\n",
    "from IPython.core.display import HTML\n",
    "HTML(\"<script>Jupyter.notebook.kernel.restart()</script>\")"
   ]
  },
  {
   "cell_type": "markdown",
   "metadata": {},
   "source": [
    "**2 Import libraries:**"
   ]
  },
  {
   "cell_type": "code",
   "execution_count": 2,
   "metadata": {},
   "outputs": [],
   "source": [
    "# Import Kubeflow SDK\n",
    "import kfp\n",
    "import kfp.dsl as dsl\n",
    "from kfp.components import OutputPath, InputPath, func_to_container_op, OutputBinaryFile, InputBinaryFile\n",
    "import typing\n"
   ]
  },
  {
   "cell_type": "markdown",
   "metadata": {},
   "source": [
    "## 1. Download data"
   ]
  },
  {
   "cell_type": "code",
   "execution_count": 40,
   "metadata": {},
   "outputs": [],
   "source": [
    "def download(squad_url, dataset_path: OutputPath()):\n",
    "    import requests\n",
    "    import json\n",
    "    import zipfile\n",
    "    import tempfile\n",
    "    import os\n",
    "    from tqdm import tqdm\n",
    "\n",
    "    # Download WikiQA\n",
    "    '''r = requests.get('https://download.microsoft.com/download/E/5/F/E5FCFCEE-7005-4814-853D-DAA7C66507E0/WikiQACorpus.zip', stream=True)\n",
    "    with tempfile.TemporaryFile() as tf:\n",
    "        for chunk in r.iter_content(chunk_size=128):\n",
    "            tf.write(chunk)\n",
    "        with zipfile.ZipFile(tf, \"r\") as f:\n",
    "            f.extractall(dataset_path)'''\n",
    "\n",
    "    # Download SemEval\n",
    "    SEMEVAL = dataset_path + '/semeval'\n",
    "    os.makedirs(SEMEVAL, exist_ok=True)\n",
    "    r_semeval = requests.get('http://alt.qcri.org/semeval2016/task3/data/uploads/semeval2016-task3-cqa-ql-traindev-v3.2.zip')\n",
    "    total_size_in_bytes = int(r_semeval.headers.get('content-length', 0))\n",
    "    progress_bar = tqdm(total=total_size_in_bytes, unit='iB', unit_scale=True)\n",
    "    with tempfile.TemporaryFile() as tf:\n",
    "        for chunk in r_semeval.iter_content(chunk_size=1024):\n",
    "            progress_bar.update(len(chunk))\n",
    "            tf.write(chunk)\n",
    "        with zipfile.ZipFile(tf, \"r\") as f:\n",
    "            f.extractall(SEMEVAL)\n",
    "    progress_bar.close()\n",
    "    if total_size_in_bytes != 0 and progress_bar.n != total_size_in_bytes:\n",
    "        print(\"ERROR, something went wrong\")\n",
    "\n",
    "    r_semeval_test = requests.get('http://alt.qcri.org/semeval2016/task3/data/uploads/semeval2016_task3_test.zip')\n",
    "    total_size_in_bytes = int(r_semeval_test.headers.get('content-length', 0))\n",
    "    progress_bar = tqdm(total=total_size_in_bytes, unit='iB', unit_scale=True)\n",
    "    with tempfile.TemporaryFile() as tf:\n",
    "        for chunk in r_semeval_test.iter_content(chunk_size=1024):\n",
    "            progress_bar.update(len(chunk))\n",
    "            tf.write(chunk)\n",
    "        with zipfile.ZipFile(tf, \"r\") as f:\n",
    "            f.extractall(SEMEVAL)\n",
    "    progress_bar.close()\n",
    "    if total_size_in_bytes != 0 and progress_bar.n != total_size_in_bytes:\n",
    "        print(\"ERROR, something went wrong\")\n",
    "\n",
    "    # Download GloVe\n",
    "    GLOVE_DIR = dataset_path + '/glove'\n",
    "    os.makedirs(GLOVE_DIR, exist_ok=True)\n",
    "    r = requests.get('http://nlp.stanford.edu/data/glove.6B.zip', stream=True)\n",
    "    total_size_in_bytes = int(r.headers.get('content-length', 0))\n",
    "    progress_bar = tqdm(total=total_size_in_bytes, unit='iB', unit_scale=True)\n",
    "    with tempfile.TemporaryFile() as tf:\n",
    "        for chunk in r.iter_content(chunk_size=1024):\n",
    "            progress_bar.update(len(chunk))\n",
    "            tf.write(chunk)\n",
    "        with zipfile.ZipFile(tf, \"r\") as f:\n",
    "            f.extractall(GLOVE_DIR)\n",
    "    progress_bar.close()\n",
    "    if total_size_in_bytes != 0 and progress_bar.n != total_size_in_bytes:\n",
    "        print(\"ERROR, something went wrong\")\n",
    "\n",
    "    r_squad = requests.get(squad_url)\n",
    "    total_size_in_bytes = int(r_squad.headers.get('content-length', 0))\n",
    "    progress_bar = tqdm(total=total_size_in_bytes, unit='iB', unit_scale=True)\n",
    "    with tempfile.TemporaryFile() as tf:\n",
    "        for chunk in r_squad.iter_content(chunk_size=1024):\n",
    "            progress_bar.update(len(chunk))\n",
    "            tf.write(chunk)\n",
    "        with zipfile.ZipFile(tf, \"r\") as f:\n",
    "            f.extractall(dataset_path)\n",
    "    progress_bar.close()\n",
    "    if total_size_in_bytes != 0 and progress_bar.n != total_size_in_bytes:\n",
    "        print(\"ERROR, something went wrong\")\n",
    "\n",
    "    print(os.listdir(dataset_path))"
   ]
  },
  {
   "cell_type": "markdown",
   "metadata": {},
   "source": [
    "##  2. Preprocess semeval data"
   ]
  },
  {
   "cell_type": "code",
   "execution_count": 41,
   "metadata": {},
   "outputs": [],
   "source": [
    "def semeval_prepro(dataset_path: InputPath(str), semeval_path: OutputPath(str)):\n",
    "    import json\n",
    "    import xmltodict\n",
    "    import numpy as np\n",
    "    from collections import Counter\n",
    "    import nltk\n",
    "    import os\n",
    "    from tqdm import tqdm\n",
    "    nltk.download('punkt')\n",
    "\n",
    "    def prepro(args):\n",
    "        if not os.path.exists(args.target_dir):\n",
    "            os.makedirs(args.target_dir)\n",
    "        prepro_each(args, 'train')\n",
    "        prepro_each(args, 'dev')\n",
    "        prepro_each(args, 'test')\n",
    "\n",
    "    def get_args():\n",
    "        source_dir = dataset_path + \"/semeval\"\n",
    "        target_dir = semeval_path + \"/semeval\"\n",
    "        glove_dir = dataset_path + \"/glove\"\n",
    "\n",
    "        # Create args object\n",
    "        from types import SimpleNamespace\n",
    "        args = SimpleNamespace(source_dir=source_dir, target_dir=target_dir, glove_dir=glove_dir)\n",
    "        return args\n",
    "\n",
    "    def save(target_dir, data, shared, data_type):\n",
    "        data_path = os.path.join(target_dir, \"data_{}.json\".format(data_type))\n",
    "        shared_path = os.path.join(target_dir, \"shared_{}.json\".format(data_type))\n",
    "        json.dump(data, open(data_path, 'w'))\n",
    "        json.dump(shared, open(shared_path, 'w'))\n",
    "\n",
    "    def get_word2vec(glove_dir, word_counter):\n",
    "        glove_corpus = '6B'\n",
    "        glove_vec_size = 100\n",
    "        glove_path = os.path.join(glove_dir, \"glove.{}.{}d.txt\".format(glove_corpus, glove_vec_size))\n",
    "        sizes = {'6B': int(4e5), '42B': int(1.9e6), '840B': int(2.2e6), '2B': int(1.2e6)}\n",
    "        total = sizes[glove_corpus]\n",
    "        word2vec_dict = {}\n",
    "        with open(glove_path, 'r', encoding='utf-8') as fh:\n",
    "            for line in tqdm(fh, total=total):\n",
    "                array = line.lstrip().rstrip().split(\" \")\n",
    "                word = array[0]\n",
    "                vector = list(map(float, array[1:]))\n",
    "                if word in word_counter:\n",
    "                    word2vec_dict[word] = vector\n",
    "                elif word.capitalize() in word_counter:\n",
    "                    word2vec_dict[word.capitalize()] = vector\n",
    "                elif word.lower() in word_counter:\n",
    "                    word2vec_dict[word.lower()] = vector\n",
    "                elif word.upper() in word_counter:\n",
    "                    word2vec_dict[word.upper()] = vector\n",
    "\n",
    "        print(\"{}/{} of word vocab have corresponding vectors in {}\".format(len(word2vec_dict), len(word_counter), glove_path))\n",
    "        return word2vec_dict\n",
    "\n",
    "    def word_tokenize(tokens):\n",
    "        return [token.replace(\"''\", '\"').replace(\"``\", '\"') for token in nltk.word_tokenize(tokens)]\n",
    "\n",
    "    def prepro_each(args, data_type):\n",
    "\n",
    "        data_list = []\n",
    "        sub_dir = 'SemEval2016_task3_test/English' if data_type == 'test' else 'v3.2/%s' % (data_type)\n",
    "        fileName = 'SemEval2016-Task3-CQA-QL-%s-subtaskA.xml'\n",
    "        if data_type == 'train':\n",
    "            with open(os.path.join(args.source_dir, sub_dir, fileName % ('train-part1')), encoding='utf-8') as f:\n",
    "                data_list += xmltodict.parse(f.read())['xml']['Thread']\n",
    "            with open(os.path.join(args.source_dir, sub_dir, fileName % ('train-part2')), encoding='utf-8') as f:\n",
    "                data_list += xmltodict.parse(f.read())['xml']['Thread']\n",
    "        else:\n",
    "            with open(os.path.join(args.source_dir, sub_dir, fileName % (data_type)), encoding='utf-8') as f:\n",
    "                data_list += xmltodict.parse(f.read())['xml']['Thread']\n",
    "        questions, comments, answers, question_ids, answer_ids = [], [], [], [], []\n",
    "\n",
    "        text2answer = {'Good' : 0, 'PotentiallyUseful' : 1, 'Bad' : 2}\n",
    "        for data in data_list:\n",
    "            q = str(data['RelQuestion']['RelQBody'])\n",
    "            qid = data['RelQuestion']['@RELQ_ID']\n",
    "            cs = data['RelComment']\n",
    "            comment = [c['RelCText'] for c in cs]\n",
    "            answer = [text2answer[c['@RELC_RELEVANCE2RELQ']] for c in cs]\n",
    "            cids = [c['@RELC_ID'] for c in cs]\n",
    "            questions.append(q)\n",
    "            comments.append(comment)\n",
    "            answers.append(answer)\n",
    "            question_ids.append(qid)\n",
    "            answer_ids.append(cids)\n",
    "\n",
    "        q, cq, y, rx, rcx, ids, idxs = [], [], [], [], [], [], []\n",
    "        char_counter, lower_word_counter = Counter(), Counter()\n",
    "\n",
    "        print(\"start for preprocessing for %s\" % (data_type))\n",
    "\n",
    "        q_len, x_len = [], []\n",
    "        for ai, (question, comment, answer, question_id, answer_id) in \\\n",
    "                tqdm(enumerate(zip(questions, comments, answers, question_ids, answer_ids))):\n",
    "            qi = word_tokenize(question)\n",
    "            q_len.append(len(qi))\n",
    "            cqi = [list(qij) for qij in qi]\n",
    "            for qij in qi:\n",
    "                lower_word_counter[qij.lower()] += 1\n",
    "                for qijk in qij:\n",
    "                    char_counter[qijk] += 1\n",
    "            for pi, (story, yi, a_id) in enumerate(zip(comment, answer, answer_id)):\n",
    "                rxi = [ai, pi]\n",
    "                xi = [word_tokenize(story)]\n",
    "                x_len.append(len(xi[0]))\n",
    "                cxi = [list(xij) for xij in xi]\n",
    "                for xij in xi:\n",
    "                    for xijk in xij:\n",
    "                        lower_word_counter[xijk.lower()] += 1\n",
    "                        for xijkl in xijk:\n",
    "                            char_counter[xijkl] += 1\n",
    "                json.dump({'x': xi, 'cx': cxi, 'p': story}, open(os.path.join(args.target_dir, 'shared_%s_%s_%s.json' % (data_type, str(ai).zfill(3), str(pi).zfill(3))), 'w'))\n",
    "\n",
    "                def put():\n",
    "                    q.append(qi)\n",
    "                    cq.append(cqi)\n",
    "                    y.append(yi)\n",
    "                    rx.append(rxi)\n",
    "                    rcx.append(rxi)\n",
    "                    ids.append((question_id, a_id))\n",
    "                    idxs.append(len(idxs))\n",
    "                put()\n",
    "                if data_type == 'train' and yi == 0:\n",
    "                    for t in range(3):\n",
    "                        put()\n",
    "                    if np.random.randint(10) > 0:\n",
    "                        put()\n",
    "                elif data_type == 'train' and yi == 2:\n",
    "                    for t in range(3):\n",
    "                        put()\n",
    "        lower_word2vec_dict = get_word2vec(args.glove_dir, lower_word_counter)\n",
    "        data = {'q': q, 'cq': cq, 'y': y, '*x': rx, '*cx': rcx,\n",
    "                'idxs': idxs, 'ids': ids, '*p': rx}\n",
    "        shared = {'char_counter': char_counter,\n",
    "                  'lower_word_counter': lower_word_counter,\n",
    "                  'lower_word2vec': lower_word2vec_dict}\n",
    "        print(\"saving ...\")\n",
    "        save(args.target_dir, data, shared, data_type)\n",
    "\n",
    "    args = get_args()\n",
    "    prepro(args)\n",
    "\n",
    "    print(os.listdir(semeval_path + \"/semeval\"))"
   ]
  },
  {
   "cell_type": "markdown",
   "metadata": {},
   "source": [
    "##  3. Train semeval with pretrained squad"
   ]
  },
  {
   "cell_type": "code",
   "execution_count": 42,
   "metadata": {},
   "outputs": [],
   "source": [
    "def semeval_train(dataset_path : InputPath(str), semeval_path : InputPath(str), load_path, shared_path, \n",
    "                  run_id, sent_size_th, ques_size_th, num_epochs, num_steps, eval_period, save_period, model_path: OutputPath(str)):\n",
    "    import os\n",
    "    import tensorflow as tf\n",
    "    from basic.cli import main\n",
    "    input_dir = semeval_path + '/semeval'\n",
    "    output_dir = model_path + '/out/semeval'\n",
    "    full_load_path = dataset_path + load_path\n",
    "    full_shared_path = dataset_path + shared_path\n",
    "    tf.app.run(main, argv=[\"./basic/cli.py\", \"--data_dir\", input_dir, \"--out_base_dir\", output_dir, \"--load_path\", full_load_path,\n",
    "                           \"--shared_path\", full_shared_path, \"--load_trained_model\", \"--run_id\", run_id, \"--load_shared\", \"--nocluster\",\n",
    "                           \"--sent_size_th\", sent_size_th, \"--ques_size_th\", ques_size_th, \"--num_epochs\", num_epochs, \"--num_steps\", num_steps,\n",
    "                           \"--eval_period\", eval_period, \"--save_period\", save_period])"
   ]
  },
  {
   "cell_type": "markdown",
   "metadata": {},
   "source": [
    "##  4. Generate test files for semeval"
   ]
  },
  {
   "cell_type": "code",
   "execution_count": 43,
   "metadata": {},
   "outputs": [],
   "source": [
    "def generate_semeval_test_files(semeval_path : InputPath(str), model_path : InputPath(str), start_step, end_step,\n",
    "                                eval_period, run_ids, threshold, test_path : OutputPath(str)):\n",
    "    import os\n",
    "    from semeval.result import load_data, evaluate\n",
    "\n",
    "    end_step = int(end_step)\n",
    "    start_step = int(start_step)\n",
    "    eval_period = int(eval_period)\n",
    "    threshold = float(threshold)\n",
    "\n",
    "    def get_args():\n",
    "        data_dir = semeval_path + '/semeval'\n",
    "        eval_dir = model_path + '/out/semeval/basic-class'\n",
    "        store_dir = test_path + '/semeval/store'\n",
    "        from types import SimpleNamespace\n",
    "        args = SimpleNamespace(data_dir=data_dir, end_step=end_step, ensemble=False,\n",
    "                               eval_dir=eval_dir, eval_name='test', eval_period=eval_period,\n",
    "                               run_ids=run_ids, start_step=start_step, steps='',\n",
    "                               store_dir=store_dir, threshold=threshold)\n",
    "        return args\n",
    "\n",
    "    def main():\n",
    "        args = get_args()\n",
    "        print(args)\n",
    "        if args.ensemble:\n",
    "            print(\"Ensemble not implemented yet\")\n",
    "            return\n",
    "\n",
    "        data = load_data(args)\n",
    "        if not os.path.exists(args.store_dir):\n",
    "            os.makedirs(args.store_dir)\n",
    "\n",
    "        for i, run_id in enumerate(args.run_ids.split(',')):\n",
    "            for step in range(args.start_step, args.end_step, args.eval_period):\n",
    "                evaluate(args, data, run_id, step, dump_gold=(i == 0 and step == args.start_step))\n",
    "\n",
    "    main()\n",
    "    print('Generated files:')\n",
    "    print(os.listdir(test_path + '/semeval/store'))\n"
   ]
  },
  {
   "cell_type": "markdown",
   "metadata": {},
   "source": [
    "##  5. Test semeval"
   ]
  },
  {
   "cell_type": "code",
   "execution_count": 44,
   "metadata": {},
   "outputs": [],
   "source": [
    "def semeval_test(test_path: InputPath(str), run_id, start_step, end_step, th, reranking_th, op_format, verbose, ignore_noanswer):\n",
    "    import sys\n",
    "    from semeval.evaluation.MAP_scripts.ev import eval_search_engine, eval_reranker\n",
    "\n",
    "    th = int(th)\n",
    "    reranking_th = int(reranking_th)\n",
    "\n",
    "    def main(options, args):\n",
    "        if len(args) == 1:\n",
    "            res_fname = args[0]\n",
    "            eval_search_engine(res_fname, options['format'], options['th'])\n",
    "        elif len(args) == 2:\n",
    "            res_fname = args[0]\n",
    "            pred_fname = args[1]\n",
    "            eval_reranker(res_fname, pred_fname, options['format'], options['th'],\n",
    "                          options['verbose'], options['reranking_th'], options['ignore_noanswer'])\n",
    "        else:\n",
    "            sys.exit(1)\n",
    "\n",
    "    start_step = int(start_step)\n",
    "    end_step = int(end_step)\n",
    "    if(verbose == 'False'):\n",
    "        verbose = False\n",
    "    else:\n",
    "        verbose = True\n",
    "    if(ignore_noanswer == 'False'):\n",
    "        ignore_noanswer = False\n",
    "    else:\n",
    "        ignore_noanswer = True\n",
    "    options = {'th': th, 'reranking_th': reranking_th, 'format': op_format, 'verbose': verbose, 'ignore_noanswer': ignore_noanswer}\n",
    "    for step in range(start_step, end_step + 1 , 200):\n",
    "        args = [test_path + '/semeval/store/test-gold', test_path + '/semeval/store/test-' + run_id + '-' + str(step).zfill(6)]\n",
    "        main(options, args)\n"
   ]
  },
  {
   "cell_type": "markdown",
   "metadata": {},
   "source": [
    "## 6. Transform python funtions into components."
   ]
  },
  {
   "cell_type": "code",
   "execution_count": 46,
   "metadata": {},
   "outputs": [],
   "source": [
    "download_op = func_to_container_op(download, base_image='tensorflow/tensorflow:latest-gpu-py3', packages_to_install=['tqdm'])\n",
    "semeval_prepro_op = func_to_container_op(semeval_prepro, base_image='sciling/tensorflow:0.12.0-py3', packages_to_install=[\"https://github.com/sciling/qatransfer/archive/refs/heads/master.zip#egg=qatransfer\"])\n",
    "semeval_train_op = func_to_container_op(semeval_train, base_image='sciling/tensorflow:0.12.0-py3', packages_to_install=[\"https://github.com/sciling/qatransfer/archive/refs/heads/master.zip#egg=qatransfer\"])\n",
    "semeval_generate_test_files_op = func_to_container_op(generate_semeval_test_files, base_image='sciling/tensorflow:0.12.0-py3', packages_to_install=[\"https://github.com/sciling/qatransfer/archive/refs/heads/master.zip#egg=qatransfer\"])\n",
    "semeval_test_op = func_to_container_op(semeval_test, base_image='sciling/tensorflow:0.12.0-py3', packages_to_install=[\"https://github.com/sciling/qatransfer/archive/refs/heads/master.zip#egg=qatransfer\"])"
   ]
  },
  {
   "cell_type": "markdown",
   "metadata": {},
   "source": [
    "## 7. Define the pipeline connections\n",
    "\n",
    "Define all the connections of the pipeline."
   ]
  },
  {
   "cell_type": "code",
   "execution_count": 47,
   "metadata": {},
   "outputs": [],
   "source": [
    "# Define the pipeline\n",
    "@dsl.pipeline(\n",
    "    name='question-answering-pipeline',\n",
    "    description=''\n",
    ")\n",
    "def qa_pipeline(\n",
    "    squad_url : str = 'http://github.com/sciling/qatransfer/releases/download/v0.1/save.zip',\n",
    "    squad_load_path : str = '/save/out/squad/basic/00/save/basic-2000',\n",
    "    squad_shared_path : str = '/save/out/squad/basic/00/shared.json',\n",
    "    train_run_id: str = '00',\n",
    "    train_sent_size_th : str = '150',\n",
    "    train_ques_size_th : str = '100',\n",
    "    train_num_epochs : str = '12',\n",
    "    train_num_steps : str = '55',\n",
    "    train_eval_period : str = '50',\n",
    "    train_save_period : str = '10',\n",
    "    test_start_step : int = 2001,\n",
    "    test_end_step: int = 2002,\n",
    "    test_steps : str = '',\n",
    "    test_ensemble : bool = False,\n",
    "    test_eval_period : int = 1,\n",
    "    test_threshold: float = 0.5,\n",
    "    test_th : int = 10,\n",
    "    test_reranking_th : int = 10,\n",
    "    test_format : str = 'trec',\n",
    "    test_verbose : bool = False,\n",
    "    test_ignore_noanswer : bool = False,\n",
    "):\n",
    "    # Download\n",
    "    dataset_path = download_op(squad_url)\n",
    "\n",
    "    # Preprocess semeval\n",
    "    semeval_prepro = semeval_prepro_op(dataset_path.output)\n",
    "\n",
    "    # Train semeval with pretrained model SQUAD\n",
    "    semeval_model = semeval_train_op(dataset_path.output, semeval_prepro.output, load_path=squad_load_path, shared_path=squad_shared_path, run_id=train_run_id,\n",
    "                                     sent_size_th=train_sent_size_th, ques_size_th=train_ques_size_th, num_epochs=train_num_epochs, num_steps=train_num_steps,\n",
    "                                     eval_period=train_eval_period, save_period=train_save_period)\n",
    "\n",
    "    # Generate files for testing\n",
    "    test_files = semeval_generate_test_files_op(semeval_prepro.output, semeval_model.output, test_start_step, test_end_step,\n",
    "                                                test_steps, test_ensemble, test_eval_period, train_run_id, test_threshold)\n",
    "\n",
    "    # Test\n",
    "    semeval_test_op(test_files.output, train_run_id, test_start_step, test_end_step, test_th, test_reranking_th, test_format, test_verbose, test_ignore_noanswer)\n",
    "\n"
   ]
  },
  {
   "cell_type": "markdown",
   "metadata": {},
   "source": [
    "## 8. Connect with the client"
   ]
  },
  {
   "cell_type": "code",
   "execution_count": 48,
   "metadata": {},
   "outputs": [
    {
     "name": "stdout",
     "output_type": "stream",
     "text": [
      "Monkeypatching\n"
     ]
    },
    {
     "data": {
      "text/plain": [
       "{'experiments': None, 'next_page_token': None, 'total_size': None}"
      ]
     },
     "execution_count": 48,
     "metadata": {},
     "output_type": "execute_result"
    }
   ],
   "source": [
    "import urllib3\n",
    "urllib3.disable_warnings(urllib3.exceptions.InsecureRequestWarning)\n",
    "# Disable ssl verification\n",
    "from kfp_server_api.configuration import Configuration as Configuration\n",
    "if 'old_init' not in globals():\n",
    "    old_init = Configuration.__init__\n",
    "\n",
    "def new_init(self, *k, **kw):\n",
    "    old_init(self, *k, **kw)\n",
    "    self.verify_ssl = False\n",
    "Configuration.__init__ = new_init\n",
    "cookies = \"YOUR_COOKIE\"\n",
    "client = kfp.Client(host='http://istio-ingressgateway.istio-system.svc/pipeline', namespace='admin', cookies=cookies)\n",
    "client.list_experiments(namespace=\"admin\")"
   ]
  },
  {
   "cell_type": "markdown",
   "metadata": {},
   "source": [
    "## 9. Compile pipeline"
   ]
  },
  {
   "cell_type": "code",
   "execution_count": 39,
   "metadata": {},
   "outputs": [],
   "source": [
    "pipeline_func = qa_pipeline\n",
    "experiment_name = 'semeval'\n",
    "run_name = pipeline_func.__name__ + ' run'\n",
    "\n",
    "kfp.compiler.Compiler().compile(pipeline_func,  '{}.zip'.format(experiment_name))"
   ]
  },
  {
   "cell_type": "markdown",
   "metadata": {},
   "source": [
    "## 10. Define arguments and start executing"
   ]
  },
  {
   "cell_type": "code",
   "execution_count": 35,
   "metadata": {},
   "outputs": [
    {
     "data": {
      "text/html": [
       "<a href=\"http://istio-ingressgateway.istio-system.svc/pipeline/#/experiments/details/2ec06a18-ca1e-4dd7-b0d9-74dd4118b552\" target=\"_blank\" >Experiment details</a>."
      ],
      "text/plain": [
       "<IPython.core.display.HTML object>"
      ]
     },
     "metadata": {},
     "output_type": "display_data"
    },
    {
     "data": {
      "text/html": [
       "<a href=\"http://istio-ingressgateway.istio-system.svc/pipeline/#/runs/details/d49e2660-469a-4015-b164-ea93a900e3af\" target=\"_blank\" >Run details</a>."
      ],
      "text/plain": [
       "<IPython.core.display.HTML object>"
      ]
     },
     "metadata": {},
     "output_type": "display_data"
    }
   ],
   "source": [
    "# ARGUMENTS DEFINITION\n",
    "arguments = {\n",
    "    'train_sent_size_th' : '10',\n",
    "    'train_ques_size_th':'10', \n",
    "    \"train_num_epochs\" : '1',\n",
    "    \"train_num_steps\" : '1',\n",
    "    \"train_eval_period\" : '1',\n",
    "    \"train_save_period\" : '1',\n",
    "    \"test_start_step\" : 2001, \n",
    "    \"test_end_step\" : 2002,\n",
    "    \"test_steps\" :'1'\n",
    "}\n",
    "\n",
    "# Submit pipeline directly from pipeline function\n",
    "run_result = client.create_run_from_pipeline_func(pipeline_func, \n",
    "                                                  experiment_name=experiment_name, \n",
    "                                                  run_name=run_name, \n",
    "                                                  namespace='admin',\n",
    "                                                  arguments=arguments)"
   ]
  }
 ],
 "metadata": {
  "kernelspec": {
   "display_name": "Python 3",
   "language": "python",
   "name": "python3"
  },
  "language_info": {
   "codemirror_mode": {
    "name": "ipython",
    "version": 3
   },
   "file_extension": ".py",
   "mimetype": "text/x-python",
   "name": "python",
   "nbconvert_exporter": "python",
   "pygments_lexer": "ipython3",
   "version": "3.6.9"
  }
 },
 "nbformat": 4,
 "nbformat_minor": 4
}